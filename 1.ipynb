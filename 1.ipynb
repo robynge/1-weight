🔍 ARK SMALL POSITIONS ANALYSIS - PHASE 1
================================================================================
📊 STEP 1: IDENTIFYING SMALL POSITIONS (<1%)
============================================================
Total records: 113,650
Small positions (<1%): 35,890 (31.6%)
Large positions (≥1%): 76,796 (67.6%)

📈 STEP 2: CALCULATING DAILY RETURNS
============================================================
Small positions with valid returns: 35,524
Large positions with valid returns: 76,385

📊 STEP 3: STATISTICAL ANALYSIS - MEAN & MEDIAN
============================================================
SMALL POSITIONS (<1%) STATISTICS:
  Mean daily return: -0.0062 (-0.62%)
  Median daily return: 0.0000 (0.00%)
  Standard deviation: 0.1526 (15.26%)

LARGE POSITIONS (≥1%) STATISTICS:
  Mean daily return: 0.0020 (0.20%)
  Median daily return: 0.0004 (0.04%)
  Standard deviation: 0.0931 (9.31%)

📊 STEP 4: DISTRIBUTION ANALYSIS
============================================================
SMALL POSITIONS DISTRIBUTION:
   1th percentile: -0.7133 (-71.33%)
   5th percentile: -0.0799 (-7.99%)
  10th percentile: -0.0472 (-4.72%)
  25th percentile: -0.0178 (-1.78%)
  50th percentile: 0.0000 (0.00%)
  75th percentile: 0.0145 (1.45%)
  90th percentile: 0.0389 (3.89%)
  95th percentile: 0.0637 (6.37%)
  99th percentile: 0.4369 (43.69%)

LARGE POSITIONS DISTRIBUTION:
   1th percentile: -0.1294 (-12.94%)
   5th percentile: -0.0588 (-5.88%)
  10th percentile: -0.0398 (-3.98%)
  25th percentile: -0.0169 (-1.69%)
  50th percentile: 0.0004 (0.04%)
  75th percentile: 0.0179 (1.79%)
  90th percentile: 0.0408 (4.08%)
  95th percentile: 0.0612 (6.12%)
  99th percentile: 0.1406 (14.06%)

🏆 STEP 5: TOP 1% AND BOTTOM 1% RETURNS
============================================================
SMALL POSITIONS:
  Top 1% threshold: 0.4369 (43.69%)
  Bottom 1% threshold: -0.7133 (-71.33%)

LARGE POSITIONS:
  Top 1% threshold: 0.1406 (14.06%)
  Bottom 1% threshold: -0.1294 (-12.94%)

💰 STEP 6: MARKET VALUE ANALYSIS
============================================================
📊 CALCULATING DAILY MARKET VALUE CHANGES
----------------------------------------
Small positions daily changes: 35,435 observations
Large positions daily changes: 76,307 observations

💸 DAILY MARKET VALUE IMPACT:
----------------------------------------
SMALL POSITIONS (<1%) DAILY MARKET VALUE IMPACT:
  Average daily change: $-211,874.13
  Median daily change: $0.00
  Total days analyzed: 35,435

LARGE POSITIONS (≥1%) DAILY MARKET VALUE IMPACT:
  Average daily change: $500,346.76
  Median daily change: $130.95
  Total days analyzed: 76,307

📈 CUMULATIVE GAINS/LOSSES:
----------------------------------------
TOTAL MARKET VALUE IMPACT OVER ENTIRE PERIOD:
  Small positions total change: $-7,507,759,683.93
  Large positions total change: $38,179,960,068.31
  ❌ Small positions LOST money: $7,507,759,683.93
  ✅ Large positions MADE money: $38,179,960,068.31

🏆 WIN/LOSS DAYS ANALYSIS:
----------------------------------------
SMALL POSITIONS WIN/LOSS RECORD:
  Positive days: 15,815 (44.6%)
  Negative days: 16,908 (55.4%)
  Average gain on positive days: $1,185,072.18
  Average loss on negative days: $-1,552,500.37

LARGE POSITIONS WIN/LOSS RECORD:
  Positive days: 38,554 (50.5%)
  Negative days: 37,141 (49.5%)
  Average gain on positive days: $7,631,447.59
  Average loss on negative days: $-6,893,806.59

🎯 EXTREME MARKET VALUE DAYS:
----------------------------------------
EXTREME DAYS:
  Small positions best day: $91,285,790.82
  Small positions worst day: $-92,820,333.51
  Large positions best day: $722,494,093.25
  Large positions worst day: $-570,097,140.04

TOP 1% AND BOTTOM 1% THRESHOLDS:
  Small positions - Top 1% days: $9,270,287.02
  Small positions - Bottom 1% days: $-11,892,441.78
  Large positions - Top 1% days: $54,661,288.14
  Large positions - Bottom 1% days: $-51,285,174.47

📋 MARKET VALUE SUMMARY TABLE:
----------------------------------------
                  Metric Small Positions (<1%) Large Positions (≥1%)
Average Daily Change ($)           -211,874.13            500,346.76
 Median Daily Change ($)                  0.00                130.95
        Total Change ($)     -7,507,759,683.93     38,179,960,068.31
            Win Rate (%)                  44.6                  50.5
            Best Day ($)         91,285,790.82        722,494,093.25
           Worst Day ($)        -92,820,333.51       -570,097,140.04

🎯 STEP 7: PHASE 1 SUMMARY
================================================================================
📈 HISTORICAL PERFORMANCE SUMMARY:
  Small positions mean return: -0.617% daily
  Large positions mean return: 0.205% daily
  Performance difference: -0.822% daily

📊 DISTRIBUTION CHARACTERISTICS:
  Small positions volatility: 15.26%
  Large positions volatility: 9.31%

🏆 EXTREME RETURNS:
  Small positions - Top 1%: 43.69%
  Small positions - Bottom 1%: -71.33%
  Large positions - Top 1%: 14.06%
  Large positions - Bottom 1%: -12.94%

💰 MARKET VALUE CONCLUSION:
  ❌ SMALL POSITIONS UNDERPERFORMED in absolute dollar terms!
     Small positions lost $45,687,719,752.24 compared to large positions

💡 KEY INSIGHTS:
   • Small positions average $-211,874.13 per day
   • Large positions average $500,346.76 per day
   • Small positions win rate: 44.6%
   • Large positions win rate: 50.5%

✅ Phase 1 Complete!
📊 Ready for Phase 2: Holding Period and Stability Analysis
